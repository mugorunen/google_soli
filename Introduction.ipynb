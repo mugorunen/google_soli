{
 "cells": [
  {
   "cell_type": "markdown",
   "metadata": {},
   "source": [
    "Google Soli - Radar Gesture Recognition"
   ]
  },
  {
   "cell_type": "markdown",
   "metadata": {},
   "source": [
    "Google developed Soli, a solid-state millimeter-wave radar for dynamic gesture recognition applications. It is a very small and power-efficient chip. Classic radar approaches prioritize high spatial resolution; however, Soli places more emphasis on temporal resolution to detect subtle, non-rigid motion."
   ]
  },
  {
   "cell_type": "markdown",
   "metadata": {},
   "source": [
    "![Soli Radar](images/soli.png)"
   ]
  },
  {
   "cell_type": "markdown",
   "metadata": {},
   "source": [
    "Soli has antennas that act as transmitters and receivers. A signal is emitted from the transmitter antenna and is reflected back to the receiver antenna. The received raw signals are then converted into Range-Doppler images, which can be used for gesture classification. In these images, pixel intensity represents the power of the received signals. The horizontal axis represents the velocity of the movement, while the vertical axis represents the distance of the action from the chip."
   ]
  },
  {
   "cell_type": "markdown",
   "metadata": {},
   "source": [
    "![Soli Movement](images/soli_movement.png)"
   ]
  },
  {
   "cell_type": "markdown",
   "metadata": {},
   "source": [
    "Deep-Soli Dataset"
   ]
  },
  {
   "cell_type": "markdown",
   "metadata": {},
   "source": [
    "This dataset consists of 11 gesture movements obtained from 10 different subjects. Each subject performed 25 sessions for each movement, resulting in a total of 11 × 10 × 25 recorded sessions. The dataset contains .h5 files, with each file named in the format LabelNumber_SubjectNumber_SessionNumber.h5. Each file contains 4 channels, as the data was recorded simultaneously from 4 receiver antennas. Each channel includes 1024 pixels representing 32 × 32 Range-Doppler images."
   ]
  },
  {
   "cell_type": "markdown",
   "metadata": {},
   "source": [
    "![Gesture Classes](images/gesture_classes.png)"
   ]
  },
  {
   "cell_type": "markdown",
   "metadata": {},
   "source": [
    "In total, there are 4 Jupyter notebooks prepared for 4 different tasks:\n",
    "\n",
    "- **Task_A**: Analyzing the dataset, performing preprocessing, and training the model to achieve the highest possible accuracy.\n",
    "\n",
    "- **Task_B_1**: Our network must run on a chip with dedicated hardware for CNNs. In this task, there are some restrictions. The total memory for layer parameters is 36 kB. Additionally, this chip does not support average pooling, so a different approach should be followed to achieve the same functionality.\n",
    "\n",
    "- **Task_B_2**: In addition to the restrictions in Task B_1, floating point operations are not supported."
   ]
  },
  {
   "cell_type": "markdown",
   "metadata": {},
   "source": [
    "**References**:\n",
    "1. https://www.kaggle.com/datasets/chandragupta0001/soli-data\n",
    "2. https://dl.acm.org/doi/pdf/10.1145/2984511.2984565"
   ]
  }
 ],
 "metadata": {
  "kernelspec": {
   "display_name": "google_soli",
   "language": "python",
   "name": "python3"
  },
  "language_info": {
   "name": "python",
   "version": "3.11.10"
  }
 },
 "nbformat": 4,
 "nbformat_minor": 2
}
